{
 "cells": [
  {
   "cell_type": "code",
   "execution_count": 1,
   "metadata": {},
   "outputs": [],
   "source": [
    "from brian2 import *\n",
    "import numpy as np\n",
    "import matplotlib.pyplot as plt\n",
    "from scipy.signal import butter , lfilter\n",
    "from scipy.fftpack import fft, fftfreq\n",
    "%matplotlib inline\n",
    "\n",
    "\n",
    "# make models.py tmrw and ISI std and mean "
   ]
  },
  {
   "cell_type": "code",
   "execution_count": 2,
   "metadata": {},
   "outputs": [],
   "source": [
    "'''  MODEL PARAMETERS '''\n",
    "\n",
    "Cm = 100*pF                    # membrane capacitance\n",
    "g_leak =10*nS                  # leak conductance\n",
    "E_rest = -65*mvolt             # membrane rest potential\n",
    "V_thresh = -52*mvolt           # membrane threshold potential\n",
    "V_reset = -67*mvolt            # membrane reset potential \n",
    "tau_m = 10*ms                  # membrane time constant\n",
    "tau_r = 1*ms                   # absolute refractory period\n",
    "\n",
    "E_i  = -75*mvolt               # inhib. reversal potential\n",
    "E_e  =  0*mvolt                # excit. reversal potential\n",
    "\n",
    "tau_l = 1*ms                   # time delay \n",
    "tau_r_e  = 0.5*ms\n",
    "tau_d_e  = 2*ms\n",
    "tau_r_i  = 0.45*ms\n",
    "tau_d_i  = 1.2*ms\n",
    "\n",
    "g_peak_e = 1*nS\n",
    "g_peak_i = 5*nS\n",
    "\n",
    "\n",
    "N_inhib = 200      # number of inhibitory inter neurons in the network\n",
    "N_excit = 800      # each inter neuron gets input from 800 excit. neurons.\n"
   ]
  },
  {
   "cell_type": "code",
   "execution_count": 3,
   "metadata": {},
   "outputs": [
    {
     "name": "stderr",
     "output_type": "stream",
     "text": [
      "WARNING    c:\\users\\debap\\appdata\\local\\programs\\python\\python37\\lib\\site-packages\\Cython\\Compiler\\Main.py:369: FutureWarning: Cython directive 'language_level' not set, using 2 for now (Py2). This will change in a later release! File: C:\\Users\\debap\\.cython\\brian_extensions\\_cython_magic_977491d6de0534ef6a3a4584a6640019.pyx\n",
      "  tree = Parsing.p_module(s, pxd, full_module_name)\n",
      " [py.warnings]\n",
      "WARNING    Cannot use Cython, a test compilation failed: Microsoft Visual C++ 14.0 or greater is required. Get it with \"Microsoft C++ Build Tools\": https://visualstudio.microsoft.com/visual-cpp-build-tools/ (DistutilsPlatformError) [brian2.codegen.runtime.cython_rt.cython_rt.failed_compile_test]\n",
      "INFO       Cannot use compiled code, falling back to the numpy code generation target. Note that this will likely be slower than using compiled code. Set the code generation to numpy manually to avoid this message:\n",
      "prefs.codegen.target = \"numpy\" [brian2.devices.device.codegen_fallback]\n"
     ]
    },
    {
     "name": "stdout",
     "output_type": "stream",
     "text": [
      "Before v = -65. mV\n",
      "After v = -65. mV\n"
     ]
    }
   ],
   "source": [
    "defaultclock.dt = 0.05*ms             # choose a particular time step\n",
    "timestep = 0.05*ms\n",
    "input_rate = (5000/N_excit)*Hz       # total input to each neuron is 5 KHz\n",
    "alpha = 20 /ms\n",
    "\n",
    "''' ----------  NEURON EQUATIONS ------------- '''\n",
    "\n",
    "eqs_model = '''\n",
    "dv/dt = (g_leak*(E_rest - v) + I_syn )/Cm : volt\n",
    "I_syn = I_ampa_exc + I_rec : amp\n",
    "I_ampa_exc = g_peak_e*(E_e - v)*s_ampa_tot : amp\n",
    "I_rec = g_peak_i*(E_i -v)*s_rec_tot : amp\n",
    "s_ampa_tot : 1\n",
    "s_rec_tot  : 1\n",
    "'''\n",
    "\n",
    "eqs_ampa = '''\n",
    "s_ampa_tot_post = w * s_ampa : 1 (summed)\n",
    "ds_ampa / dt = - s_ampa / tau_d_e + alpha * x * (1 - s_ampa) : 1 (clock-driven)\n",
    "dx / dt = - x / tau_r_e : 1 (clock-driven)\n",
    "w : 1\n",
    "'''\n",
    "eqs_pre_ampa = '''\n",
    "x += 1\n",
    "'''\n",
    "eqs_rec = '''\n",
    "s_rec_tot_post = w * s_rec : 1 (summed)\n",
    "ds_rec / dt = - s_rec / tau_d_i + alpha * y * (1 - s_rec) : 1 (clock-driven)\n",
    "dy / dt = - y / tau_r_i : 1 (clock-driven)\n",
    "w : 1\n",
    "'''\n",
    "eqs_pre_rec = '''\n",
    "y += 1\n",
    "'''\n",
    "indices = array([0,0,0])\n",
    "times  = array([50 , 100, 150])*ms\n",
    "SGG = SpikeGeneratorGroup(1 , indices, times)\n",
    "G = NeuronGroup(N_inhib, eqs_model, threshold='v> V_thresh', reset='v = V_reset', method ='euler')\n",
    "\n",
    "# Excitatory Synapse Group\n",
    "S_excit = Synapses(SGG,G, model=eqs_ampa , on_pre= eqs_pre_ampa , delay = tau_l , method = 'euler')\n",
    "S_excit.connect(i = 0, j = 10)\n",
    "S_excit.w = 1.0\n",
    "# Inhibitory, Recurrent Synapse Group\n",
    "\n",
    "S_inhib = Synapses(G,G,model=eqs_rec , on_pre= eqs_pre_rec , delay = tau_l , method = 'euler')\n",
    "S_inhib.connect(condition='i!=j', p=0.2)\n",
    "# set inhib weights to 1.0 as well\n",
    "S_inhib.w = 1.0\n",
    "# Spike, State Monitors\n",
    "\n",
    "State_Mon = StateMonitor(G, variables = ['v', 's_ampa_tot' ] , record = True)\n",
    "#Spike_Mon = SpikeMonitor(G)\n",
    "#Rate_Mon = PopulationRateMonitor(G)\n",
    "\n",
    "# initialise at rest \n",
    "G.v = E_rest\n",
    "print('Before v = %s' % G.v[0])\n",
    "run(200*ms)\n",
    "print('After v = %s' % G.v[0])"
   ]
  },
  {
   "cell_type": "code",
   "execution_count": 6,
   "metadata": {},
   "outputs": [
    {
     "data": {
      "image/png": "[encoded data removed]",
      "text/plain": [
       "<Figure size 432x288 with 2 Axes>"
      ]
     },
     "metadata": {
      "needs_background": "light"
     },
     "output_type": "display_data"
    },
    {
     "name": "stdout",
     "output_type": "stream",
     "text": [
      "The peak synaptic conductance achievd is 1. m^-2 kg^-1 s^3 A \n",
      "Timed spike inputs were given at [ 50. 100. 150.] ms\n"
     ]
    }
   ],
   "source": [
    "fig, ax = plt.subplots()\n",
    "ax.plot(State_Mon.t/ms, State_Mon.v[10]/volt)\n",
    "\n",
    "ax1 = ax.twinx()\n",
    "ax1.plot(State_Mon.t/ms, State_Mon.s_ampa_tot[10]/volt , color = 'orange' , ls = '--')\n",
    "ax1.set_ylabel('')\n",
    "plt.show()\n",
    "\n",
    "print('The peak synaptic conductance achievd is %s ' % np.max(State_Mon.s_ampa_tot[10]/volt))\n",
    "print('Timed spike inputs were given at %s' % times)"
   ]
  }
 ],
 "metadata": {
  "kernelspec": {
   "display_name": "Python 3",
   "language": "python",
   "name": "python3"
  },
  "language_info": {
   "codemirror_mode": {
    "name": "ipython",
    "version": 3
   },
   "file_extension": ".py",
   "mimetype": "text/x-python",
   "name": "python",
   "nbconvert_exporter": "python",
   "pygments_lexer": "ipython3",
   "version": "3.7.1"
  }
 },
 "nbformat": 4,
 "nbformat_minor": 2
}
